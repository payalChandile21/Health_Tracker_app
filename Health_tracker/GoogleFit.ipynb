{
 "cells": [
  {
   "cell_type": "code",
   "execution_count": 1,
   "id": "fd754b99",
   "metadata": {},
   "outputs": [],
   "source": [
    "import os\n",
    "import google_auth_oauthlib.flow\n",
    "import googleapiclient.discovery\n",
    "import googleapiclient.errors\n"
   ]
  },
  {
   "cell_type": "code",
   "execution_count": 2,
   "id": "846cddf9",
   "metadata": {},
   "outputs": [
    {
     "name": "stdout",
     "output_type": "stream",
     "text": [
      "^C\n"
     ]
    }
   ],
   "source": [
    "!pip install google-auth-oauthlib google-api-python-client\n"
   ]
  },
  {
   "cell_type": "code",
   "execution_count": 3,
   "id": "8df5c5ab",
   "metadata": {},
   "outputs": [],
   "source": [
    "# Path to your client secret JSON file\n",
    "CLIENT_SECRETS_FILE = \"client_secret.json\"\n",
    "\n",
    "# The scopes required to access Fit data\n",
    "SCOPES = [\"https://www.googleapis.com/auth/fitness.activity.read\",\n",
    "          \"https://www.googleapis.com/auth/fitness.location.read\",\n",
    "          \"https://www.googleapis.com/auth/fitness.body.read\"]\n",
    "\n",
    "# API version\n",
    "API_SERVICE_NAME = 'fitness'\n",
    "API_VERSION = 'v1'"
   ]
  },
  {
   "cell_type": "code",
   "execution_count": 4,
   "id": "d387ce71",
   "metadata": {},
   "outputs": [
    {
     "name": "stdout",
     "output_type": "stream",
     "text": [
      "Please visit this URL to authorize this application: https://accounts.google.com/o/oauth2/auth?response_type=code&client_id=1036982817354-keqo0ru9s40okkvm8pi8jisnu26e61lr.apps.googleusercontent.com&redirect_uri=http%3A%2F%2Flocalhost%3A57393%2F&scope=https%3A%2F%2Fwww.googleapis.com%2Fauth%2Ffitness.activity.read+https%3A%2F%2Fwww.googleapis.com%2Fauth%2Ffitness.location.read+https%3A%2F%2Fwww.googleapis.com%2Fauth%2Ffitness.body.read&state=sTJZ5HzSXIDqVtgkdECiN3rKq55Tbq&access_type=offline\n",
      "Requirement already satisfied: google-auth-oauthlib in c:\\users\\10xtc_lap-5\\anaconda5\\lib\\site-packages (1.2.0)\n",
      "Requirement already satisfied: google-api-python-client in c:\\users\\10xtc_lap-5\\anaconda5\\lib\\site-packages (2.153.0)\n",
      "Requirement already satisfied: google-auth>=2.15.0 in c:\\users\\10xtc_lap-5\\anaconda5\\lib\\site-packages (from google-auth-oauthlib) (2.25.2)\n",
      "Requirement already satisfied: requests-oauthlib>=0.7.0 in c:\\users\\10xtc_lap-5\\anaconda5\\lib\\site-packages (from google-auth-oauthlib) (1.3.1)\n",
      "Requirement already satisfied: httplib2<1.dev0,>=0.19.0 in c:\\users\\10xtc_lap-5\\anaconda5\\lib\\site-packages (from google-api-python-client) (0.22.0)\n",
      "Requirement already satisfied: google-auth-httplib2<1.0.0,>=0.2.0 in c:\\users\\10xtc_lap-5\\anaconda5\\lib\\site-packages (from google-api-python-client) (0.2.0)\n",
      "Requirement already satisfied: google-api-core!=2.0.*,!=2.1.*,!=2.2.*,!=2.3.0,<3.0.0.dev0,>=1.31.5 in c:\\users\\10xtc_lap-5\\anaconda5\\lib\\site-packages (from google-api-python-client) (2.23.0)\n",
      "Requirement already satisfied: uritemplate<5,>=3.0.1 in c:\\users\\10xtc_lap-5\\anaconda5\\lib\\site-packages (from google-api-python-client) (4.1.1)\n",
      "Requirement already satisfied: googleapis-common-protos<2.0.dev0,>=1.56.2 in c:\\users\\10xtc_lap-5\\anaconda5\\lib\\site-packages (from google-api-core!=2.0.*,!=2.1.*,!=2.2.*,!=2.3.0,<3.0.0.dev0,>=1.31.5->google-api-python-client) (1.66.0)\n",
      "Requirement already satisfied: protobuf!=3.20.0,!=3.20.1,!=4.21.0,!=4.21.1,!=4.21.2,!=4.21.3,!=4.21.4,!=4.21.5,<6.0.0.dev0,>=3.19.5 in c:\\users\\10xtc_lap-5\\anaconda5\\lib\\site-packages (from google-api-core!=2.0.*,!=2.1.*,!=2.2.*,!=2.3.0,<3.0.0.dev0,>=1.31.5->google-api-python-client) (4.23.4)\n",
      "Requirement already satisfied: proto-plus<2.0.0dev,>=1.22.3 in c:\\users\\10xtc_lap-5\\anaconda5\\lib\\site-packages (from google-api-core!=2.0.*,!=2.1.*,!=2.2.*,!=2.3.0,<3.0.0.dev0,>=1.31.5->google-api-python-client) (1.25.0)\n",
      "Requirement already satisfied: requests<3.0.0.dev0,>=2.18.0 in c:\\users\\10xtc_lap-5\\anaconda5\\lib\\site-packages (from google-api-core!=2.0.*,!=2.1.*,!=2.2.*,!=2.3.0,<3.0.0.dev0,>=1.31.5->google-api-python-client) (2.31.0)\n",
      "Requirement already satisfied: cachetools<6.0,>=2.0.0 in c:\\users\\10xtc_lap-5\\anaconda5\\lib\\site-packages (from google-auth>=2.15.0->google-auth-oauthlib) (5.3.2)\n",
      "Requirement already satisfied: pyasn1-modules>=0.2.1 in c:\\users\\10xtc_lap-5\\anaconda5\\lib\\site-packages (from google-auth>=2.15.0->google-auth-oauthlib) (0.2.8)\n",
      "Requirement already satisfied: rsa<5,>=3.1.4 in c:\\users\\10xtc_lap-5\\anaconda5\\lib\\site-packages (from google-auth>=2.15.0->google-auth-oauthlib) (4.9)\n",
      "Requirement already satisfied: pyparsing!=3.0.0,!=3.0.1,!=3.0.2,!=3.0.3,<4,>=2.4.2 in c:\\users\\10xtc_lap-5\\anaconda5\\lib\\site-packages (from httplib2<1.dev0,>=0.19.0->google-api-python-client) (3.0.9)\n",
      "Requirement already satisfied: oauthlib>=3.0.0 in c:\\users\\10xtc_lap-5\\anaconda5\\lib\\site-packages (from requests-oauthlib>=0.7.0->google-auth-oauthlib) (3.2.2)\n",
      "Requirement already satisfied: pyasn1<0.5.0,>=0.4.6 in c:\\users\\10xtc_lap-5\\anaconda5\\lib\\site-packages (from pyasn1-modules>=0.2.1->google-auth>=2.15.0->google-auth-oauthlib) (0.4.8)\n",
      "Requirement already satisfied: charset-normalizer<4,>=2 in c:\\users\\10xtc_lap-5\\anaconda5\\lib\\site-packages (from requests<3.0.0.dev0,>=2.18.0->google-api-core!=2.0.*,!=2.1.*,!=2.2.*,!=2.3.0,<3.0.0.dev0,>=1.31.5->google-api-python-client) (2.0.4)\n",
      "Requirement already satisfied: idna<4,>=2.5 in c:\\users\\10xtc_lap-5\\anaconda5\\lib\\site-packages (from requests<3.0.0.dev0,>=2.18.0->google-api-core!=2.0.*,!=2.1.*,!=2.2.*,!=2.3.0,<3.0.0.dev0,>=1.31.5->google-api-python-client) (2.10)\n",
      "Requirement already satisfied: urllib3<3,>=1.21.1 in c:\\users\\10xtc_lap-5\\anaconda5\\lib\\site-packages (from requests<3.0.0.dev0,>=2.18.0->google-api-core!=2.0.*,!=2.1.*,!=2.2.*,!=2.3.0,<3.0.0.dev0,>=1.31.5->google-api-python-client) (1.26.16)\n",
      "Requirement already satisfied: certifi>=2017.4.17 in c:\\users\\10xtc_lap-5\\anaconda5\\lib\\site-packages (from requests<3.0.0.dev0,>=2.18.0->google-api-core!=2.0.*,!=2.1.*,!=2.2.*,!=2.3.0,<3.0.0.dev0,>=1.31.5->google-api-python-client) (2023.11.17)\n"
     ]
    }
   ],
   "source": [
    "# Authentication flow\n",
    "flow = google_auth_oauthlib.flow.InstalledAppFlow.from_client_secrets_file(\n",
    "    CLIENT_SECRETS_FILE, SCOPES)\n",
    "credentials = flow.run_local_server(port=0)\n",
    "\n",
    "# Build the API service\n",
    "service = googleapiclient.discovery.build(\n",
    "    API_SERVICE_NAME, API_VERSION, credentials=credentials)"
   ]
  },
  {
   "cell_type": "code",
   "execution_count": 5,
   "id": "be6b1e84",
   "metadata": {},
   "outputs": [
    {
     "name": "stdout",
     "output_type": "stream",
     "text": [
      "{'bucket': [{'startTimeMillis': '1731660840542', 'endTimeMillis': '1731747240542', 'dataset': [{'dataSourceId': 'derived:com.google.step_count.delta:com.google.android.gms:aggregated', 'point': []}]}, {'startTimeMillis': '1731747240542', 'endTimeMillis': '1731833640542', 'dataset': [{'dataSourceId': 'derived:com.google.step_count.delta:com.google.android.gms:aggregated', 'point': []}]}, {'startTimeMillis': '1731833640542', 'endTimeMillis': '1731920040542', 'dataset': [{'dataSourceId': 'derived:com.google.step_count.delta:com.google.android.gms:aggregated', 'point': [{'startTimeNanos': '1731911075328379910', 'endTimeNanos': '1731919681987042985', 'dataTypeName': 'com.google.step_count.delta', 'originDataSourceId': 'raw:com.google.step_count.cumulative:OPPO:CPH1803:610f3d48:Step Counter', 'value': [{'intVal': 393, 'mapVal': []}]}]}]}, {'startTimeMillis': '1731920040542', 'endTimeMillis': '1732006440542', 'dataset': [{'dataSourceId': 'derived:com.google.step_count.delta:com.google.android.gms:aggregated', 'point': [{'startTimeNanos': '1731923605445056662', 'endTimeNanos': '1732005797026377184', 'dataTypeName': 'com.google.step_count.delta', 'originDataSourceId': 'raw:com.google.step_count.cumulative:OPPO:CPH1803:610f3d48:Step Counter', 'value': [{'intVal': 1170, 'mapVal': []}]}]}]}, {'startTimeMillis': '1732006440542', 'endTimeMillis': '1732092840542', 'dataset': [{'dataSourceId': 'derived:com.google.step_count.delta:com.google.android.gms:aggregated', 'point': [{'startTimeNanos': '1732009321976889224', 'endTimeNanos': '1732092840542000000', 'dataTypeName': 'com.google.step_count.delta', 'originDataSourceId': 'raw:com.google.step_count.cumulative:OPPO:CPH1803:610f3d48:Step Counter', 'value': [{'intVal': 613, 'mapVal': []}]}]}]}, {'startTimeMillis': '1732092840542', 'endTimeMillis': '1732179240542', 'dataset': [{'dataSourceId': 'derived:com.google.step_count.delta:com.google.android.gms:aggregated', 'point': [{'startTimeNanos': '1732092840542000000', 'endTimeNanos': '1732178461936959332', 'dataTypeName': 'com.google.step_count.delta', 'originDataSourceId': 'raw:com.google.step_count.cumulative:OPPO:CPH1803:610f3d48:Step Counter', 'value': [{'intVal': 1471, 'mapVal': []}]}]}]}, {'startTimeMillis': '1732179240542', 'endTimeMillis': '1732265640542', 'dataset': [{'dataSourceId': 'derived:com.google.step_count.delta:com.google.android.gms:aggregated', 'point': [{'startTimeNanos': '1732180000707118404', 'endTimeNanos': '1732260684991217930', 'dataTypeName': 'com.google.step_count.delta', 'originDataSourceId': 'raw:com.google.step_count.cumulative:OPPO:CPH1803:610f3d48:Step Counter', 'value': [{'intVal': 687, 'mapVal': []}]}]}]}]}\n"
     ]
    }
   ],
   "source": [
    "# Example: Fetch steps data for the last 7 days\n",
    "from datetime import datetime, timedelta, timezone\n",
    "\n",
    "# Use timezone-aware datetime object\n",
    "now = datetime.now(timezone.utc)\n",
    "start_time = int((now - timedelta(days=7)).timestamp() * 1000)\n",
    "end_time = int(now.timestamp() * 1000)\n",
    "\n",
    "dataset = f\"{start_time}-{end_time}\"\n",
    "\n",
    "# Request step data\n",
    "response = service.users().dataset().aggregate(userId=\"me\", body={\n",
    "    \"aggregateBy\": [{\n",
    "        \"dataTypeName\": \"com.google.step_count.delta\"\n",
    "    }],\n",
    "    \"bucketByTime\": {\"durationMillis\": 86400000},  # Daily steps\n",
    "    \"startTimeMillis\": start_time,\n",
    "    \"endTimeMillis\": end_time\n",
    "}).execute()\n",
    "\n",
    "# Print the response\n",
    "print(response)"
   ]
  },
  {
   "cell_type": "markdown",
   "id": "50e196f6-1597-4d8e-a494-197168599f27",
   "metadata": {},
   "source": [
    "for bucket in response.get('bucket', []):\n",
    "    steps = 0\n",
    "    for dataset in bucket.get('dataset', []):\n",
    "        for point in dataset.get('point', []):\n",
    "            for value in point.get('value', []):\n",
    "                steps += value.get('intVal', 0)\n",
    "    print(f\"Steps on {bucket['startTimeMillis']} were: {steps}\")"
   ]
  },
  {
   "cell_type": "code",
   "execution_count": 6,
   "id": "3ffbd60c",
   "metadata": {},
   "outputs": [
    {
     "name": "stdout",
     "output_type": "stream",
     "text": [
      "Steps on 2024-11-15 were: 0\n",
      "Steps on 2024-11-16 were: 0\n",
      "Steps on 2024-11-17 were: 393\n",
      "Steps on 2024-11-18 were: 1170\n",
      "Steps on 2024-11-19 were: 613\n",
      "Steps on 2024-11-20 were: 1471\n",
      "Steps on 2024-11-21 were: 687\n"
     ]
    }
   ],
   "source": [
    "from datetime import datetime\n",
    "\n",
    "for bucket in response.get('bucket', []):\n",
    "    steps = 0\n",
    "    for dataset in bucket.get('dataset', []):\n",
    "        for point in dataset.get('point', []):\n",
    "            for value in point.get('value', []):\n",
    "                steps += value.get('intVal', 0)\n",
    "    \n",
    "    # Convert the startTimeMillis to a human-readable date\n",
    "    start_time = int(bucket['startTimeMillis'])\n",
    "    date = datetime.utcfromtimestamp(start_time / 1000).strftime('%Y-%m-%d')\n",
    "    \n",
    "    print(f\"Steps on {date} were: {steps}\")\n",
    "from datetime import datetime, timedelta, timezone\n",
    "\n",
    "# Use timezone-aware datetime object\n",
    "now = datetime.now(timezone.utc)\n",
    "start_time = int((now - timedelta(days=7)).timestamp() * 1000)\n",
    "end_time = int(now.timestamp() * 1000)\n"
   ]
  },
  {
   "cell_type": "code",
   "execution_count": 7,
   "id": "f250c9fe-a227-47f8-9949-c37476f878f8",
   "metadata": {},
   "outputs": [
    {
     "data": {
      "image/png": "[encoded data removed]",
      "text/plain": [
       "<Figure size 1000x600 with 1 Axes>"
      ]
     },
     "metadata": {},
     "output_type": "display_data"
    }
   ],
   "source": [
    "import matplotlib.pyplot as plt\n",
    "from datetime import datetime, timezone, timedelta\n",
    "\n",
    "\n",
    "# Extract dates and steps\n",
    "dates = []\n",
    "steps_counts = []\n",
    "\n",
    "for bucket in response.get('bucket', []):\n",
    "    steps = 0\n",
    "    for dataset in bucket.get('dataset', []):\n",
    "        for point in dataset.get('point', []):\n",
    "            for value in point.get('value', []):\n",
    "                steps += value.get('intVal', 0)\n",
    "    \n",
    "    # Convert the startTimeMillis to a human-readable date\n",
    "    start_time = int(bucket['startTimeMillis'])\n",
    "    date = datetime.utcfromtimestamp(start_time / 1000).strftime('%Y-%m-%d')\n",
    "    \n",
    "    dates.append(date)\n",
    "    steps_counts.append(steps)\n",
    "\n",
    "# Plotting the data\n",
    "plt.figure(figsize=(10, 6))\n",
    "plt.plot(dates, steps_counts, marker='o', linestyle='-', color='b')\n",
    "plt.title('Step Count Over Time')\n",
    "plt.xlabel('Date')\n",
    "plt.ylabel('Step Count')\n",
    "plt.xticks(rotation=45)\n",
    "plt.grid(True)\n",
    "\n",
    "# Show the plot\n",
    "plt.tight_layout()\n",
    "plt.show()\n"
   ]
  },
  {
   "cell_type": "code",
   "execution_count": 8,
   "id": "6a8e3640-8a15-418d-86bb-956ae80d1852",
   "metadata": {},
   "outputs": [
    {
     "data": {
      "image/png": "[encoded data removed]",
      "text/plain": [
       "<Figure size 1000x600 with 1 Axes>"
      ]
     },
     "metadata": {},
     "output_type": "display_data"
    }
   ],
   "source": [
    "import matplotlib.pyplot as plt\n",
    "from datetime import datetime\n",
    "\n",
    "# Constants for calories burned estimation\n",
    "calories_per_step = 0.05  # Average calories burned per step\n",
    "\n",
    "# Extract steps data, calculate estimated calories burned, and map to dates\n",
    "dates = []\n",
    "total_calories_per_date = {}\n",
    "\n",
    "for bucket in response.get('bucket', []):\n",
    "    steps = 0\n",
    "    # Convert startTimeMillis to a human-readable date\n",
    "    start_time = int(bucket['startTimeMillis'])\n",
    "    date = datetime.utcfromtimestamp(start_time / 1000).strftime('%Y-%m-%d')\n",
    "    \n",
    "    for dataset in bucket.get('dataset', []):\n",
    "        for point in dataset.get('point', []):\n",
    "            for value in point.get('value', []):\n",
    "                steps += value.get('intVal', 0)\n",
    "    \n",
    "    # Calculate estimated calories burned\n",
    "    estimated_calories = steps * calories_per_step\n",
    "    \n",
    "    # Accumulate calories for the same date\n",
    "    if date in total_calories_per_date:\n",
    "        total_calories_per_date[date] += estimated_calories\n",
    "    else:\n",
    "        total_calories_per_date[date] = estimated_calories\n",
    "\n",
    "# Prepare data for plotting\n",
    "dates = list(total_calories_per_date.keys())\n",
    "calories_burned = list(total_calories_per_date.values())\n",
    "\n",
    "# Plotting the data\n",
    "plt.figure(figsize=(10, 6))\n",
    "plt.bar(dates, calories_burned, color='green')\n",
    "plt.title('Estimated Calories Burned by Date')\n",
    "plt.xlabel('Date')\n",
    "plt.ylabel('Estimated Calories Burned')\n",
    "plt.xticks(rotation=45)  # Rotate x-axis labels for better visibility\n",
    "plt.grid(axis='y')\n",
    "\n",
    "# Display the plot\n",
    "plt.tight_layout()\n",
    "plt.show()\n"
   ]
  },
  {
   "cell_type": "code",
   "execution_count": 9,
   "id": "dd3a0747-23d7-49cf-82c8-2d7194f8370d",
   "metadata": {},
   "outputs": [
    {
     "name": "stdout",
     "output_type": "stream",
     "text": [
      "Requirement already satisfied: streamlit in c:\\users\\10xtc_lap-5\\anaconda5\\lib\\site-packages (1.30.0)\n",
      "Requirement already satisfied: altair<6,>=4.0 in c:\\users\\10xtc_lap-5\\anaconda5\\lib\\site-packages (from streamlit) (5.2.0)\n",
      "Requirement already satisfied: blinker<2,>=1.0.0 in c:\\users\\10xtc_lap-5\\anaconda5\\lib\\site-packages (from streamlit) (1.7.0)\n",
      "Requirement already satisfied: cachetools<6,>=4.0 in c:\\users\\10xtc_lap-5\\anaconda5\\lib\\site-packages (from streamlit) (5.3.2)\n",
      "Requirement already satisfied: click<9,>=7.0 in c:\\users\\10xtc_lap-5\\anaconda5\\lib\\site-packages (from streamlit) (8.0.4)\n",
      "Requirement already satisfied: importlib-metadata<8,>=1.4 in c:\\users\\10xtc_lap-5\\anaconda5\\lib\\site-packages (from streamlit) (6.0.0)\n",
      "Requirement already satisfied: numpy<2,>=1.19.3 in c:\\users\\10xtc_lap-5\\anaconda5\\lib\\site-packages (from streamlit) (1.26.4)\n",
      "Requirement already satisfied: packaging<24,>=16.8 in c:\\users\\10xtc_lap-5\\anaconda5\\lib\\site-packages (from streamlit) (23.2)\n",
      "Requirement already satisfied: pandas<3,>=1.3.0 in c:\\users\\10xtc_lap-5\\anaconda5\\lib\\site-packages (from streamlit) (2.0.3)\n",
      "Requirement already satisfied: pillow<11,>=7.1.0 in c:\\users\\10xtc_lap-5\\anaconda5\\lib\\site-packages (from streamlit) (10.0.1)\n",
      "Requirement already satisfied: protobuf<5,>=3.20 in c:\\users\\10xtc_lap-5\\anaconda5\\lib\\site-packages (from streamlit) (4.23.4)\n",
      "Requirement already satisfied: pyarrow>=6.0 in c:\\users\\10xtc_lap-5\\anaconda5\\lib\\site-packages (from streamlit) (11.0.0)\n",
      "Requirement already satisfied: python-dateutil<3,>=2.7.3 in c:\\users\\10xtc_lap-5\\anaconda5\\lib\\site-packages (from streamlit) (2.8.2)\n",
      "Requirement already satisfied: requests<3,>=2.27 in c:\\users\\10xtc_lap-5\\anaconda5\\lib\\site-packages (from streamlit) (2.31.0)\n",
      "Requirement already satisfied: rich<14,>=10.14.0 in c:\\users\\10xtc_lap-5\\anaconda5\\lib\\site-packages (from streamlit) (13.7.0)\n",
      "Requirement already satisfied: tenacity<9,>=8.1.0 in c:\\users\\10xtc_lap-5\\anaconda5\\lib\\site-packages (from streamlit) (8.2.2)\n",
      "Requirement already satisfied: toml<2,>=0.10.1 in c:\\users\\10xtc_lap-5\\anaconda5\\lib\\site-packages (from streamlit) (0.10.2)\n",
      "Requirement already satisfied: typing-extensions<5,>=4.3.0 in c:\\users\\10xtc_lap-5\\anaconda5\\lib\\site-packages (from streamlit) (4.10.0)\n",
      "Requirement already satisfied: tzlocal<6,>=1.1 in c:\\users\\10xtc_lap-5\\anaconda5\\lib\\site-packages (from streamlit) (5.2)\n",
      "Requirement already satisfied: validators<1,>=0.2 in c:\\users\\10xtc_lap-5\\anaconda5\\lib\\site-packages (from streamlit) (0.22.0)\n",
      "Requirement already satisfied: gitpython!=3.1.19,<4,>=3.0.7 in c:\\users\\10xtc_lap-5\\anaconda5\\lib\\site-packages (from streamlit) (3.1.41)\n",
      "Requirement already satisfied: pydeck<1,>=0.8.0b4 in c:\\users\\10xtc_lap-5\\anaconda5\\lib\\site-packages (from streamlit) (0.8.1b0)\n",
      "Requirement already satisfied: tornado<7,>=6.0.3 in c:\\users\\10xtc_lap-5\\anaconda5\\lib\\site-packages (from streamlit) (6.3.2)\n",
      "Requirement already satisfied: watchdog>=2.1.5 in c:\\users\\10xtc_lap-5\\anaconda5\\lib\\site-packages (from streamlit) (2.1.6)\n",
      "Requirement already satisfied: jinja2 in c:\\users\\10xtc_lap-5\\anaconda5\\lib\\site-packages (from altair<6,>=4.0->streamlit) (3.1.2)\n",
      "Requirement already satisfied: jsonschema>=3.0 in c:\\users\\10xtc_lap-5\\anaconda5\\lib\\site-packages (from altair<6,>=4.0->streamlit) (4.17.3)\n",
      "Requirement already satisfied: toolz in c:\\users\\10xtc_lap-5\\anaconda5\\lib\\site-packages (from altair<6,>=4.0->streamlit) (0.12.0)\n",
      "Requirement already satisfied: colorama in c:\\users\\10xtc_lap-5\\anaconda5\\lib\\site-packages (from click<9,>=7.0->streamlit) (0.4.6)\n",
      "Requirement already satisfied: gitdb<5,>=4.0.1 in c:\\users\\10xtc_lap-5\\anaconda5\\lib\\site-packages (from gitpython!=3.1.19,<4,>=3.0.7->streamlit) (4.0.11)\n",
      "Requirement already satisfied: zipp>=0.5 in c:\\users\\10xtc_lap-5\\anaconda5\\lib\\site-packages (from importlib-metadata<8,>=1.4->streamlit) (3.11.0)\n",
      "Requirement already satisfied: pytz>=2020.1 in c:\\users\\10xtc_lap-5\\anaconda5\\lib\\site-packages (from pandas<3,>=1.3.0->streamlit) (2023.3.post1)\n",
      "Requirement already satisfied: tzdata>=2022.1 in c:\\users\\10xtc_lap-5\\anaconda5\\lib\\site-packages (from pandas<3,>=1.3.0->streamlit) (2023.3)\n",
      "Requirement already satisfied: six>=1.5 in c:\\users\\10xtc_lap-5\\anaconda5\\lib\\site-packages (from python-dateutil<3,>=2.7.3->streamlit) (1.16.0)\n",
      "Requirement already satisfied: charset-normalizer<4,>=2 in c:\\users\\10xtc_lap-5\\anaconda5\\lib\\site-packages (from requests<3,>=2.27->streamlit) (2.0.4)\n",
      "Requirement already satisfied: idna<4,>=2.5 in c:\\users\\10xtc_lap-5\\anaconda5\\lib\\site-packages (from requests<3,>=2.27->streamlit) (2.10)\n",
      "Requirement already satisfied: urllib3<3,>=1.21.1 in c:\\users\\10xtc_lap-5\\anaconda5\\lib\\site-packages (from requests<3,>=2.27->streamlit) (1.26.16)\n",
      "Requirement already satisfied: certifi>=2017.4.17 in c:\\users\\10xtc_lap-5\\anaconda5\\lib\\site-packages (from requests<3,>=2.27->streamlit) (2023.11.17)\n",
      "Requirement already satisfied: markdown-it-py>=2.2.0 in c:\\users\\10xtc_lap-5\\anaconda5\\lib\\site-packages (from rich<14,>=10.14.0->streamlit) (2.2.0)\n",
      "Requirement already satisfied: pygments<3.0.0,>=2.13.0 in c:\\users\\10xtc_lap-5\\anaconda5\\lib\\site-packages (from rich<14,>=10.14.0->streamlit) (2.15.1)\n",
      "Requirement already satisfied: smmap<6,>=3.0.1 in c:\\users\\10xtc_lap-5\\anaconda5\\lib\\site-packages (from gitdb<5,>=4.0.1->gitpython!=3.1.19,<4,>=3.0.7->streamlit) (5.0.1)\n",
      "Requirement already satisfied: MarkupSafe>=2.0 in c:\\users\\10xtc_lap-5\\anaconda5\\lib\\site-packages (from jinja2->altair<6,>=4.0->streamlit) (2.1.1)\n",
      "Requirement already satisfied: attrs>=17.4.0 in c:\\users\\10xtc_lap-5\\anaconda5\\lib\\site-packages (from jsonschema>=3.0->altair<6,>=4.0->streamlit) (22.1.0)\n",
      "Requirement already satisfied: pyrsistent!=0.17.0,!=0.17.1,!=0.17.2,>=0.14.0 in c:\\users\\10xtc_lap-5\\anaconda5\\lib\\site-packages (from jsonschema>=3.0->altair<6,>=4.0->streamlit) (0.18.0)\n",
      "Requirement already satisfied: mdurl~=0.1 in c:\\users\\10xtc_lap-5\\anaconda5\\lib\\site-packages (from markdown-it-py>=2.2.0->rich<14,>=10.14.0->streamlit) (0.1.0)\n",
      "Note: you may need to restart the kernel to use updated packages.\n"
     ]
    }
   ],
   "source": [
    "pip install streamlit\n"
   ]
  },
  {
   "cell_type": "code",
   "execution_count": 20,
   "id": "9cf75df6-6f66-40be-b09e-b8ef28eb3788",
   "metadata": {},
   "outputs": [
    {
     "name": "stdout",
     "output_type": "stream",
     "text": [
      "Please visit this URL to authorize this application: https://accounts.google.com/o/oauth2/auth?response_type=code&client_id=1036982817354-keqo0ru9s40okkvm8pi8jisnu26e61lr.apps.googleusercontent.com&redirect_uri=http%3A%2F%2Flocalhost%3A56767%2F&scope=https%3A%2F%2Fwww.googleapis.com%2Fauth%2Ffitness.activity.read+https%3A%2F%2Fwww.googleapis.com%2Fauth%2Ffitness.location.read+https%3A%2F%2Fwww.googleapis.com%2Fauth%2Ffitness.body.read&state=VSrumVll9WgS4UII2W5XoCpiPOlDD9&access_type=offline\n"
     ]
    },
    {
     "ename": "AttributeError",
     "evalue": "module 'streamlit' has no attribute 'run'",
     "output_type": "error",
     "traceback": [
      "\u001b[1;31m---------------------------------------------------------------------------\u001b[0m",
      "\u001b[1;31mAttributeError\u001b[0m                            Traceback (most recent call last)",
      "Cell \u001b[1;32mIn[20], line 105\u001b[0m\n\u001b[0;32m    103\u001b[0m \u001b[38;5;66;03m# Run the app\u001b[39;00m\n\u001b[0;32m    104\u001b[0m \u001b[38;5;28;01mif\u001b[39;00m \u001b[38;5;18m__name__\u001b[39m \u001b[38;5;241m==\u001b[39m \u001b[38;5;124m'\u001b[39m\u001b[38;5;124m__main__\u001b[39m\u001b[38;5;124m'\u001b[39m:\n\u001b[1;32m--> 105\u001b[0m     st\u001b[38;5;241m.\u001b[39mrun()\n",
      "\u001b[1;31mAttributeError\u001b[0m: module 'streamlit' has no attribute 'run'"
     ]
    }
   ],
   "source": [
    "import streamlit as st\n",
    "import matplotlib.pyplot as plt\n",
    "from datetime import datetime\n",
    "import google_auth_oauthlib.flow\n",
    "import googleapiclient.discovery\n",
    "from datetime import datetime, timedelta, timezone\n",
    "\n",
    "# Path to your client secret JSON file\n",
    "CLIENT_SECRETS_FILE = \"client_secret.json\"\n",
    "\n",
    "# The scopes required to access Fit data\n",
    "SCOPES = [\n",
    "    \"https://www.googleapis.com/auth/fitness.activity.read\",\n",
    "    \"https://www.googleapis.com/auth/fitness.location.read\",\n",
    "    \"https://www.googleapis.com/auth/fitness.body.read\"\n",
    "]\n",
    "\n",
    "# API version\n",
    "API_SERVICE_NAME = 'fitness'\n",
    "API_VERSION = 'v1'\n",
    "\n",
    "# Authentication flow\n",
    "flow = google_auth_oauthlib.flow.InstalledAppFlow.from_client_secrets_file(\n",
    "    CLIENT_SECRETS_FILE, SCOPES)\n",
    "credentials = flow.run_local_server(port=0)\n",
    "\n",
    "# Build the API service\n",
    "service = googleapiclient.discovery.build(\n",
    "    API_SERVICE_NAME, API_VERSION, credentials=credentials)\n",
    "\n",
    "# Fetch steps data for the last 7 days\n",
    "now = datetime.now(timezone.utc)\n",
    "start_time = int((now - timedelta(days=7)).timestamp() * 1000)\n",
    "end_time = int(now.timestamp() * 1000)\n",
    "\n",
    "dataset = f\"{start_time}-{end_time}\"\n",
    "\n",
    "# Request step data\n",
    "response = service.users().dataset().aggregate(userId=\"me\", body={\n",
    "    \"aggregateBy\": [{\n",
    "        \"dataTypeName\": \"com.google.step_count.delta\"\n",
    "    }],\n",
    "    \"bucketByTime\": {\"durationMillis\": 86400000},  # Daily steps\n",
    "    \"startTimeMillis\": start_time,\n",
    "    \"endTimeMillis\": end_time\n",
    "}).execute()\n",
    "\n",
    "# Initialize lists for plotting\n",
    "dates = []\n",
    "steps_counts = []\n",
    "total_calories_per_date = {}\n",
    "calories_per_step = 0.05  # Average calories burned per step\n",
    "\n",
    "# Extract data for plotting\n",
    "for bucket in response.get('bucket', []):\n",
    "    steps = 0\n",
    "    start_time = int(bucket['startTimeMillis'])\n",
    "    date = datetime.utcfromtimestamp(start_time / 1000).strftime('%Y-%m-%d')\n",
    "\n",
    "    for dataset in bucket.get('dataset', []):\n",
    "        for point in dataset.get('point', []):\n",
    "            for value in point.get('value', []):\n",
    "                steps += value.get('intVal', 0)\n",
    "    \n",
    "    # Calculate estimated calories burned\n",
    "    estimated_calories = steps * calories_per_step\n",
    "    \n",
    "    # Store data for plotting\n",
    "    dates.append(date)\n",
    "    steps_counts.append(steps)\n",
    "    \n",
    "    # Accumulate calories for the same date\n",
    "    total_calories_per_date[date] = total_calories_per_date.get(date, 0) + estimated_calories\n",
    "\n",
    "# Prepare data for plotting calories\n",
    "calories_burned = list(total_calories_per_date.values())\n",
    "\n",
    "# Streamlit layout\n",
    "st.title(\"Fitness Data Overview\")\n",
    "\n",
    "# Step Count Plot\n",
    "st.header(\"Step Count Over Time\")\n",
    "plt.figure(figsize=(10, 6))\n",
    "plt.plot(dates, steps_counts, marker='o', linestyle='-', color='b')\n",
    "plt.title('Step Count Over Time')\n",
    "plt.xlabel('Date')\n",
    "plt.ylabel('Step Count')\n",
    "plt.xticks(rotation=45)\n",
    "plt.grid(True)\n",
    "st.pyplot(plt)\n",
    "\n",
    "# Calories Burned Plot\n",
    "st.header(\"Estimated Calories Burned by Date\")\n",
    "plt.figure(figsize=(10, 6))\n",
    "plt.bar(dates, calories_burned, color='green')\n",
    "plt.title('Estimated Calories Burned by Date')\n",
    "plt.xlabel('Date')\n",
    "plt.ylabel('Estimated Calories Burned')\n",
    "plt.xticks(rotation=45)  # Rotate x-axis labels for better visibility\n",
    "plt.grid(axis='y')\n",
    "st.pyplot(plt)\n",
    "\n",
    "# Run the app\n",
    "if __name__ == '__main__':\n",
    "    st.run()\n"
   ]
  },
  {
   "cell_type": "code",
   "execution_count": 22,
   "id": "c957a331",
   "metadata": {},
   "outputs": [
    {
     "name": "stdout",
     "output_type": "stream",
     "text": [
      "Please visit this URL to authorize this application: https://accounts.google.com/o/oauth2/auth?response_type=code&client_id=1036982817354-keqo0ru9s40okkvm8pi8jisnu26e61lr.apps.googleusercontent.com&redirect_uri=http%3A%2F%2Flocalhost%3A56878%2F&scope=https%3A%2F%2Fwww.googleapis.com%2Fauth%2Ffitness.activity.read+https%3A%2F%2Fwww.googleapis.com%2Fauth%2Ffitness.location.read+https%3A%2F%2Fwww.googleapis.com%2Fauth%2Ffitness.body.read&state=mBYZnSDs3qLXMJZz9G0MASlqCpnzSC&access_type=offline\n"
     ]
    },
    {
     "data": {
      "text/plain": [
       "DeltaGenerator()"
      ]
     },
     "execution_count": 22,
     "metadata": {},
     "output_type": "execute_result"
    }
   ],
   "source": [
    "import streamlit as st\n",
    "import matplotlib.pyplot as plt\n",
    "from datetime import datetime, timedelta, timezone\n",
    "import google_auth_oauthlib.flow\n",
    "import googleapiclient.discovery\n",
    "\n",
    "# Path to your client secret JSON file\n",
    "CLIENT_SECRETS_FILE = \"client_secret.json\"\n",
    "\n",
    "# The scopes required to access Fit data\n",
    "SCOPES = [\n",
    "    \"https://www.googleapis.com/auth/fitness.activity.read\",\n",
    "    \"https://www.googleapis.com/auth/fitness.location.read\",\n",
    "    \"https://www.googleapis.com/auth/fitness.body.read\"\n",
    "]\n",
    "\n",
    "# API version\n",
    "API_SERVICE_NAME = 'fitness'\n",
    "API_VERSION = 'v1'\n",
    "\n",
    "# Authentication flow\n",
    "flow = google_auth_oauthlib.flow.InstalledAppFlow.from_client_secrets_file(\n",
    "    CLIENT_SECRETS_FILE, SCOPES)\n",
    "credentials = flow.run_local_server(port=0)\n",
    "\n",
    "# Build the API service\n",
    "service = googleapiclient.discovery.build(\n",
    "    API_SERVICE_NAME, API_VERSION, credentials=credentials)\n",
    "\n",
    "# Fetch steps data for the last 7 days\n",
    "now = datetime.now(timezone.utc)\n",
    "start_time = int((now - timedelta(days=7)).timestamp() * 1000)\n",
    "end_time = int(now.timestamp() * 1000)\n",
    "\n",
    "dataset = f\"{start_time}-{end_time}\"\n",
    "\n",
    "# Request step data\n",
    "response = service.users().dataset().aggregate(userId=\"me\", body={\n",
    "    \"aggregateBy\": [{\n",
    "        \"dataTypeName\": \"com.google.step_count.delta\"\n",
    "    }],\n",
    "    \"bucketByTime\": {\"durationMillis\": 86400000},  # Daily steps\n",
    "    \"startTimeMillis\": start_time,\n",
    "    \"endTimeMillis\": end_time\n",
    "}).execute()\n",
    "\n",
    "# Initialize lists for plotting\n",
    "dates = []\n",
    "steps_counts = []\n",
    "total_calories_per_date = {}\n",
    "calories_per_step = 0.05  # Average calories burned per step\n",
    "\n",
    "# Extract data for plotting\n",
    "for bucket in response.get('bucket', []):\n",
    "    steps = 0\n",
    "    start_time = int(bucket['startTimeMillis'])\n",
    "    date = datetime.utcfromtimestamp(start_time / 1000).strftime('%Y-%m-%d')\n",
    "\n",
    "    for dataset in bucket.get('dataset', []):\n",
    "        for point in dataset.get('point', []):\n",
    "            for value in point.get('value', []):\n",
    "                steps += value.get('intVal', 0)\n",
    "\n",
    "    # Calculate estimated calories burned\n",
    "    estimated_calories = steps * calories_per_step\n",
    "\n",
    "    # Store data for plotting\n",
    "    dates.append(date)\n",
    "    steps_counts.append(steps)\n",
    "\n",
    "    # Accumulate calories for the same date\n",
    "    total_calories_per_date[date] = total_calories_per_date.get(date, 0) + estimated_calories\n",
    "\n",
    "# Prepare data for plotting calories\n",
    "calories_burned = list(total_calories_per_date.values())\n",
    "\n",
    "# Streamlit layout\n",
    "st.title(\"Fitness Data Overview\")\n",
    "\n",
    "# Step Count Plot\n",
    "st.header(\"Step Count Over Time\")\n",
    "plt.figure(figsize=(10, 6))\n",
    "plt.plot(dates, steps_counts, marker='o', linestyle='-', color='b')\n",
    "plt.title('Step Count Over Time')\n",
    "plt.xlabel('Date')\n",
    "plt.ylabel('Step Count')\n",
    "plt.xticks(rotation=45)\n",
    "plt.grid(True)\n",
    "st.pyplot(plt)\n",
    "\n",
    "# Calories Burned Plot\n",
    "st.header(\"Estimated Calories Burned by Date\")\n",
    "plt.figure(figsize=(10, 6))\n",
    "plt.bar(dates, calories_burned, color='green')\n",
    "plt.title('Estimated Calories Burned by Date')\n",
    "plt.xlabel('Date')\n",
    "plt.ylabel('Estimated Calories Burned')\n",
    "plt.xticks(rotation=45)  # Rotate x-axis labels for better visibility\n",
    "plt.grid(axis='y')\n",
    "st.pyplot(plt)\n"
   ]
  },
  {
   "cell_type": "code",
   "execution_count": 23,
   "id": "81fe7fd2-f420-4f81-b949-3f1e9bbca87b",
   "metadata": {},
   "outputs": [
    {
     "ename": "SyntaxError",
     "evalue": "invalid syntax (2153904786.py, line 1)",
     "output_type": "error",
     "traceback": [
      "\u001b[1;36m  Cell \u001b[1;32mIn[23], line 1\u001b[1;36m\u001b[0m\n\u001b[1;33m    streamlit run fitness_dashboard.py\u001b[0m\n\u001b[1;37m              ^\u001b[0m\n\u001b[1;31mSyntaxError\u001b[0m\u001b[1;31m:\u001b[0m invalid syntax\n"
     ]
    }
   ],
   "source": [
    "streamlit run fitness_dashboard.py\n"
   ]
  },
  {
   "cell_type": "code",
   "execution_count": 21,
   "id": "4844b96a-a6cb-4743-a214-5651f3da61da",
   "metadata": {},
   "outputs": [
    {
     "ename": "SyntaxError",
     "evalue": "invalid syntax (450566633.py, line 1)",
     "output_type": "error",
     "traceback": [
      "\u001b[1;36m  Cell \u001b[1;32mIn[21], line 1\u001b[1;36m\u001b[0m\n\u001b[1;33m    streamlit run GFit.py\u001b[0m\n\u001b[1;37m              ^\u001b[0m\n\u001b[1;31mSyntaxError\u001b[0m\u001b[1;31m:\u001b[0m invalid syntax\n"
     ]
    }
   ],
   "source": [
    "streamlit run GFit.py"
   ]
  },
  {
   "cell_type": "code",
   "execution_count": 19,
   "id": "ce1ddf8a-1a58-4333-896e-3bf2ade54416",
   "metadata": {},
   "outputs": [
    {
     "name": "stdout",
     "output_type": "stream",
     "text": [
      "Requirement already satisfied: streamlit in c:\\users\\10xtc_lap-5\\anaconda5\\lib\\site-packages (1.30.0)\n",
      "Requirement already satisfied: altair<6,>=4.0 in c:\\users\\10xtc_lap-5\\anaconda5\\lib\\site-packages (from streamlit) (5.2.0)\n",
      "Requirement already satisfied: blinker<2,>=1.0.0 in c:\\users\\10xtc_lap-5\\anaconda5\\lib\\site-packages (from streamlit) (1.7.0)\n",
      "Requirement already satisfied: cachetools<6,>=4.0 in c:\\users\\10xtc_lap-5\\anaconda5\\lib\\site-packages (from streamlit) (5.3.2)\n",
      "Requirement already satisfied: click<9,>=7.0 in c:\\users\\10xtc_lap-5\\anaconda5\\lib\\site-packages (from streamlit) (8.0.4)\n",
      "Requirement already satisfied: importlib-metadata<8,>=1.4 in c:\\users\\10xtc_lap-5\\anaconda5\\lib\\site-packages (from streamlit) (6.0.0)\n",
      "Requirement already satisfied: numpy<2,>=1.19.3 in c:\\users\\10xtc_lap-5\\anaconda5\\lib\\site-packages (from streamlit) (1.26.4)\n",
      "Requirement already satisfied: packaging<24,>=16.8 in c:\\users\\10xtc_lap-5\\anaconda5\\lib\\site-packages (from streamlit) (23.2)\n",
      "Requirement already satisfied: pandas<3,>=1.3.0 in c:\\users\\10xtc_lap-5\\anaconda5\\lib\\site-packages (from streamlit) (2.0.3)\n",
      "Requirement already satisfied: pillow<11,>=7.1.0 in c:\\users\\10xtc_lap-5\\anaconda5\\lib\\site-packages (from streamlit) (10.0.1)\n",
      "Requirement already satisfied: protobuf<5,>=3.20 in c:\\users\\10xtc_lap-5\\anaconda5\\lib\\site-packages (from streamlit) (4.23.4)\n",
      "Requirement already satisfied: pyarrow>=6.0 in c:\\users\\10xtc_lap-5\\anaconda5\\lib\\site-packages (from streamlit) (11.0.0)\n",
      "Requirement already satisfied: python-dateutil<3,>=2.7.3 in c:\\users\\10xtc_lap-5\\anaconda5\\lib\\site-packages (from streamlit) (2.8.2)\n",
      "Requirement already satisfied: requests<3,>=2.27 in c:\\users\\10xtc_lap-5\\anaconda5\\lib\\site-packages (from streamlit) (2.31.0)\n",
      "Requirement already satisfied: rich<14,>=10.14.0 in c:\\users\\10xtc_lap-5\\anaconda5\\lib\\site-packages (from streamlit) (13.7.0)\n",
      "Requirement already satisfied: tenacity<9,>=8.1.0 in c:\\users\\10xtc_lap-5\\anaconda5\\lib\\site-packages (from streamlit) (8.2.2)\n",
      "Requirement already satisfied: toml<2,>=0.10.1 in c:\\users\\10xtc_lap-5\\anaconda5\\lib\\site-packages (from streamlit) (0.10.2)\n",
      "Requirement already satisfied: typing-extensions<5,>=4.3.0 in c:\\users\\10xtc_lap-5\\anaconda5\\lib\\site-packages (from streamlit) (4.10.0)\n",
      "Requirement already satisfied: tzlocal<6,>=1.1 in c:\\users\\10xtc_lap-5\\anaconda5\\lib\\site-packages (from streamlit) (5.2)\n",
      "Requirement already satisfied: validators<1,>=0.2 in c:\\users\\10xtc_lap-5\\anaconda5\\lib\\site-packages (from streamlit) (0.22.0)\n",
      "Requirement already satisfied: gitpython!=3.1.19,<4,>=3.0.7 in c:\\users\\10xtc_lap-5\\anaconda5\\lib\\site-packages (from streamlit) (3.1.41)\n",
      "Requirement already satisfied: pydeck<1,>=0.8.0b4 in c:\\users\\10xtc_lap-5\\anaconda5\\lib\\site-packages (from streamlit) (0.8.1b0)\n",
      "Requirement already satisfied: tornado<7,>=6.0.3 in c:\\users\\10xtc_lap-5\\anaconda5\\lib\\site-packages (from streamlit) (6.3.2)\n",
      "Requirement already satisfied: watchdog>=2.1.5 in c:\\users\\10xtc_lap-5\\anaconda5\\lib\\site-packages (from streamlit) (2.1.6)\n",
      "Requirement already satisfied: jinja2 in c:\\users\\10xtc_lap-5\\anaconda5\\lib\\site-packages (from altair<6,>=4.0->streamlit) (3.1.2)\n",
      "Requirement already satisfied: jsonschema>=3.0 in c:\\users\\10xtc_lap-5\\anaconda5\\lib\\site-packages (from altair<6,>=4.0->streamlit) (4.17.3)\n",
      "Requirement already satisfied: toolz in c:\\users\\10xtc_lap-5\\anaconda5\\lib\\site-packages (from altair<6,>=4.0->streamlit) (0.12.0)\n",
      "Requirement already satisfied: colorama in c:\\users\\10xtc_lap-5\\anaconda5\\lib\\site-packages (from click<9,>=7.0->streamlit) (0.4.6)\n",
      "Requirement already satisfied: gitdb<5,>=4.0.1 in c:\\users\\10xtc_lap-5\\anaconda5\\lib\\site-packages (from gitpython!=3.1.19,<4,>=3.0.7->streamlit) (4.0.11)\n",
      "Requirement already satisfied: zipp>=0.5 in c:\\users\\10xtc_lap-5\\anaconda5\\lib\\site-packages (from importlib-metadata<8,>=1.4->streamlit) (3.11.0)\n",
      "Requirement already satisfied: pytz>=2020.1 in c:\\users\\10xtc_lap-5\\anaconda5\\lib\\site-packages (from pandas<3,>=1.3.0->streamlit) (2023.3.post1)\n",
      "Requirement already satisfied: tzdata>=2022.1 in c:\\users\\10xtc_lap-5\\anaconda5\\lib\\site-packages (from pandas<3,>=1.3.0->streamlit) (2023.3)\n",
      "Requirement already satisfied: six>=1.5 in c:\\users\\10xtc_lap-5\\anaconda5\\lib\\site-packages (from python-dateutil<3,>=2.7.3->streamlit) (1.16.0)\n",
      "Requirement already satisfied: charset-normalizer<4,>=2 in c:\\users\\10xtc_lap-5\\anaconda5\\lib\\site-packages (from requests<3,>=2.27->streamlit) (2.0.4)\n",
      "Requirement already satisfied: idna<4,>=2.5 in c:\\users\\10xtc_lap-5\\anaconda5\\lib\\site-packages (from requests<3,>=2.27->streamlit) (2.10)\n",
      "Requirement already satisfied: urllib3<3,>=1.21.1 in c:\\users\\10xtc_lap-5\\anaconda5\\lib\\site-packages (from requests<3,>=2.27->streamlit) (1.26.16)\n",
      "Requirement already satisfied: certifi>=2017.4.17 in c:\\users\\10xtc_lap-5\\anaconda5\\lib\\site-packages (from requests<3,>=2.27->streamlit) (2023.11.17)\n",
      "Requirement already satisfied: markdown-it-py>=2.2.0 in c:\\users\\10xtc_lap-5\\anaconda5\\lib\\site-packages (from rich<14,>=10.14.0->streamlit) (2.2.0)\n",
      "Requirement already satisfied: pygments<3.0.0,>=2.13.0 in c:\\users\\10xtc_lap-5\\anaconda5\\lib\\site-packages (from rich<14,>=10.14.0->streamlit) (2.15.1)\n",
      "Requirement already satisfied: smmap<6,>=3.0.1 in c:\\users\\10xtc_lap-5\\anaconda5\\lib\\site-packages (from gitdb<5,>=4.0.1->gitpython!=3.1.19,<4,>=3.0.7->streamlit) (5.0.1)\n",
      "Requirement already satisfied: MarkupSafe>=2.0 in c:\\users\\10xtc_lap-5\\anaconda5\\lib\\site-packages (from jinja2->altair<6,>=4.0->streamlit) (2.1.1)\n",
      "Requirement already satisfied: attrs>=17.4.0 in c:\\users\\10xtc_lap-5\\anaconda5\\lib\\site-packages (from jsonschema>=3.0->altair<6,>=4.0->streamlit) (22.1.0)\n",
      "Requirement already satisfied: pyrsistent!=0.17.0,!=0.17.1,!=0.17.2,>=0.14.0 in c:\\users\\10xtc_lap-5\\anaconda5\\lib\\site-packages (from jsonschema>=3.0->altair<6,>=4.0->streamlit) (0.18.0)\n",
      "Requirement already satisfied: mdurl~=0.1 in c:\\users\\10xtc_lap-5\\anaconda5\\lib\\site-packages (from markdown-it-py>=2.2.0->rich<14,>=10.14.0->streamlit) (0.1.0)\n"
     ]
    }
   ],
   "source": [
    "!pip install streamlit"
   ]
  },
  {
   "cell_type": "code",
   "execution_count": 24,
   "id": "2602a052-28b8-4c37-abd1-4c0e2f78e0a4",
   "metadata": {},
   "outputs": [
    {
     "name": "stdout",
     "output_type": "stream",
     "text": [
      "Requirement already satisfied: streamlit in c:\\users\\10xtc_lap-5\\anaconda5\\lib\\site-packages (1.30.0)\n",
      "Requirement already satisfied: altair<6,>=4.0 in c:\\users\\10xtc_lap-5\\anaconda5\\lib\\site-packages (from streamlit) (5.2.0)\n",
      "Requirement already satisfied: blinker<2,>=1.0.0 in c:\\users\\10xtc_lap-5\\anaconda5\\lib\\site-packages (from streamlit) (1.7.0)\n",
      "Requirement already satisfied: cachetools<6,>=4.0 in c:\\users\\10xtc_lap-5\\anaconda5\\lib\\site-packages (from streamlit) (5.3.2)\n",
      "Requirement already satisfied: click<9,>=7.0 in c:\\users\\10xtc_lap-5\\anaconda5\\lib\\site-packages (from streamlit) (8.0.4)\n",
      "Requirement already satisfied: importlib-metadata<8,>=1.4 in c:\\users\\10xtc_lap-5\\anaconda5\\lib\\site-packages (from streamlit) (6.0.0)\n",
      "Requirement already satisfied: numpy<2,>=1.19.3 in c:\\users\\10xtc_lap-5\\anaconda5\\lib\\site-packages (from streamlit) (1.26.4)\n",
      "Requirement already satisfied: packaging<24,>=16.8 in c:\\users\\10xtc_lap-5\\anaconda5\\lib\\site-packages (from streamlit) (23.2)\n",
      "Requirement already satisfied: pandas<3,>=1.3.0 in c:\\users\\10xtc_lap-5\\anaconda5\\lib\\site-packages (from streamlit) (2.0.3)\n",
      "Requirement already satisfied: pillow<11,>=7.1.0 in c:\\users\\10xtc_lap-5\\anaconda5\\lib\\site-packages (from streamlit) (10.0.1)\n",
      "Requirement already satisfied: protobuf<5,>=3.20 in c:\\users\\10xtc_lap-5\\anaconda5\\lib\\site-packages (from streamlit) (4.23.4)\n",
      "Requirement already satisfied: pyarrow>=6.0 in c:\\users\\10xtc_lap-5\\anaconda5\\lib\\site-packages (from streamlit) (11.0.0)\n",
      "Requirement already satisfied: python-dateutil<3,>=2.7.3 in c:\\users\\10xtc_lap-5\\anaconda5\\lib\\site-packages (from streamlit) (2.8.2)\n",
      "Requirement already satisfied: requests<3,>=2.27 in c:\\users\\10xtc_lap-5\\anaconda5\\lib\\site-packages (from streamlit) (2.31.0)\n",
      "Requirement already satisfied: rich<14,>=10.14.0 in c:\\users\\10xtc_lap-5\\anaconda5\\lib\\site-packages (from streamlit) (13.7.0)\n",
      "Requirement already satisfied: tenacity<9,>=8.1.0 in c:\\users\\10xtc_lap-5\\anaconda5\\lib\\site-packages (from streamlit) (8.2.2)\n",
      "Requirement already satisfied: toml<2,>=0.10.1 in c:\\users\\10xtc_lap-5\\anaconda5\\lib\\site-packages (from streamlit) (0.10.2)\n",
      "Requirement already satisfied: typing-extensions<5,>=4.3.0 in c:\\users\\10xtc_lap-5\\anaconda5\\lib\\site-packages (from streamlit) (4.10.0)\n",
      "Requirement already satisfied: tzlocal<6,>=1.1 in c:\\users\\10xtc_lap-5\\anaconda5\\lib\\site-packages (from streamlit) (5.2)\n",
      "Requirement already satisfied: validators<1,>=0.2 in c:\\users\\10xtc_lap-5\\anaconda5\\lib\\site-packages (from streamlit) (0.22.0)\n",
      "Requirement already satisfied: gitpython!=3.1.19,<4,>=3.0.7 in c:\\users\\10xtc_lap-5\\anaconda5\\lib\\site-packages (from streamlit) (3.1.41)\n",
      "Requirement already satisfied: pydeck<1,>=0.8.0b4 in c:\\users\\10xtc_lap-5\\anaconda5\\lib\\site-packages (from streamlit) (0.8.1b0)\n",
      "Requirement already satisfied: tornado<7,>=6.0.3 in c:\\users\\10xtc_lap-5\\anaconda5\\lib\\site-packages (from streamlit) (6.3.2)\n",
      "Requirement already satisfied: watchdog>=2.1.5 in c:\\users\\10xtc_lap-5\\anaconda5\\lib\\site-packages (from streamlit) (2.1.6)\n",
      "Requirement already satisfied: jinja2 in c:\\users\\10xtc_lap-5\\anaconda5\\lib\\site-packages (from altair<6,>=4.0->streamlit) (3.1.2)\n",
      "Requirement already satisfied: jsonschema>=3.0 in c:\\users\\10xtc_lap-5\\anaconda5\\lib\\site-packages (from altair<6,>=4.0->streamlit) (4.17.3)\n",
      "Requirement already satisfied: toolz in c:\\users\\10xtc_lap-5\\anaconda5\\lib\\site-packages (from altair<6,>=4.0->streamlit) (0.12.0)\n",
      "Requirement already satisfied: colorama in c:\\users\\10xtc_lap-5\\anaconda5\\lib\\site-packages (from click<9,>=7.0->streamlit) (0.4.6)\n",
      "Requirement already satisfied: gitdb<5,>=4.0.1 in c:\\users\\10xtc_lap-5\\anaconda5\\lib\\site-packages (from gitpython!=3.1.19,<4,>=3.0.7->streamlit) (4.0.11)\n",
      "Requirement already satisfied: zipp>=0.5 in c:\\users\\10xtc_lap-5\\anaconda5\\lib\\site-packages (from importlib-metadata<8,>=1.4->streamlit) (3.11.0)\n",
      "Requirement already satisfied: pytz>=2020.1 in c:\\users\\10xtc_lap-5\\anaconda5\\lib\\site-packages (from pandas<3,>=1.3.0->streamlit) (2023.3.post1)\n",
      "Requirement already satisfied: tzdata>=2022.1 in c:\\users\\10xtc_lap-5\\anaconda5\\lib\\site-packages (from pandas<3,>=1.3.0->streamlit) (2023.3)\n",
      "Requirement already satisfied: six>=1.5 in c:\\users\\10xtc_lap-5\\anaconda5\\lib\\site-packages (from python-dateutil<3,>=2.7.3->streamlit) (1.16.0)\n",
      "Requirement already satisfied: charset-normalizer<4,>=2 in c:\\users\\10xtc_lap-5\\anaconda5\\lib\\site-packages (from requests<3,>=2.27->streamlit) (2.0.4)\n",
      "Requirement already satisfied: idna<4,>=2.5 in c:\\users\\10xtc_lap-5\\anaconda5\\lib\\site-packages (from requests<3,>=2.27->streamlit) (2.10)\n",
      "Requirement already satisfied: urllib3<3,>=1.21.1 in c:\\users\\10xtc_lap-5\\anaconda5\\lib\\site-packages (from requests<3,>=2.27->streamlit) (1.26.16)\n",
      "Requirement already satisfied: certifi>=2017.4.17 in c:\\users\\10xtc_lap-5\\anaconda5\\lib\\site-packages (from requests<3,>=2.27->streamlit) (2023.11.17)\n",
      "Requirement already satisfied: markdown-it-py>=2.2.0 in c:\\users\\10xtc_lap-5\\anaconda5\\lib\\site-packages (from rich<14,>=10.14.0->streamlit) (2.2.0)\n",
      "Requirement already satisfied: pygments<3.0.0,>=2.13.0 in c:\\users\\10xtc_lap-5\\anaconda5\\lib\\site-packages (from rich<14,>=10.14.0->streamlit) (2.15.1)\n",
      "Requirement already satisfied: smmap<6,>=3.0.1 in c:\\users\\10xtc_lap-5\\anaconda5\\lib\\site-packages (from gitdb<5,>=4.0.1->gitpython!=3.1.19,<4,>=3.0.7->streamlit) (5.0.1)\n",
      "Requirement already satisfied: MarkupSafe>=2.0 in c:\\users\\10xtc_lap-5\\anaconda5\\lib\\site-packages (from jinja2->altair<6,>=4.0->streamlit) (2.1.1)\n",
      "Requirement already satisfied: attrs>=17.4.0 in c:\\users\\10xtc_lap-5\\anaconda5\\lib\\site-packages (from jsonschema>=3.0->altair<6,>=4.0->streamlit) (22.1.0)\n",
      "Requirement already satisfied: pyrsistent!=0.17.0,!=0.17.1,!=0.17.2,>=0.14.0 in c:\\users\\10xtc_lap-5\\anaconda5\\lib\\site-packages (from jsonschema>=3.0->altair<6,>=4.0->streamlit) (0.18.0)\n",
      "Requirement already satisfied: mdurl~=0.1 in c:\\users\\10xtc_lap-5\\anaconda5\\lib\\site-packages (from markdown-it-py>=2.2.0->rich<14,>=10.14.0->streamlit) (0.1.0)\n"
     ]
    },
    {
     "name": "stderr",
     "output_type": "stream",
     "text": [
      "ERROR: Could not find a version that satisfies the requirement jupyter-streamlit (from versions: none)\n",
      "ERROR: No matching distribution found for jupyter-streamlit\n"
     ]
    }
   ],
   "source": [
    "!pip install streamlit\n",
    "!pip install jupyter-streamlit\n"
   ]
  },
  {
   "cell_type": "code",
   "execution_count": 25,
   "id": "2c247386",
   "metadata": {},
   "outputs": [
    {
     "ename": "ModuleNotFoundError",
     "evalue": "No module named 'streamlit.notebook'",
     "output_type": "error",
     "traceback": [
      "\u001b[1;31m---------------------------------------------------------------------------\u001b[0m",
      "\u001b[1;31mModuleNotFoundError\u001b[0m                       Traceback (most recent call last)",
      "Cell \u001b[1;32mIn[25], line 1\u001b[0m\n\u001b[1;32m----> 1\u001b[0m get_ipython()\u001b[38;5;241m.\u001b[39mrun_line_magic(\u001b[38;5;124m'\u001b[39m\u001b[38;5;124mload_ext\u001b[39m\u001b[38;5;124m'\u001b[39m, \u001b[38;5;124m'\u001b[39m\u001b[38;5;124mstreamlit.notebook\u001b[39m\u001b[38;5;124m'\u001b[39m)\n",
      "File \u001b[1;32m~\\anaconda5\\Lib\\site-packages\\IPython\\core\\interactiveshell.py:2432\u001b[0m, in \u001b[0;36mInteractiveShell.run_line_magic\u001b[1;34m(self, magic_name, line, _stack_depth)\u001b[0m\n\u001b[0;32m   2430\u001b[0m     kwargs[\u001b[38;5;124m'\u001b[39m\u001b[38;5;124mlocal_ns\u001b[39m\u001b[38;5;124m'\u001b[39m] \u001b[38;5;241m=\u001b[39m \u001b[38;5;28mself\u001b[39m\u001b[38;5;241m.\u001b[39mget_local_scope(stack_depth)\n\u001b[0;32m   2431\u001b[0m \u001b[38;5;28;01mwith\u001b[39;00m \u001b[38;5;28mself\u001b[39m\u001b[38;5;241m.\u001b[39mbuiltin_trap:\n\u001b[1;32m-> 2432\u001b[0m     result \u001b[38;5;241m=\u001b[39m fn(\u001b[38;5;241m*\u001b[39margs, \u001b[38;5;241m*\u001b[39m\u001b[38;5;241m*\u001b[39mkwargs)\n\u001b[0;32m   2434\u001b[0m \u001b[38;5;66;03m# The code below prevents the output from being displayed\u001b[39;00m\n\u001b[0;32m   2435\u001b[0m \u001b[38;5;66;03m# when using magics with decorator @output_can_be_silenced\u001b[39;00m\n\u001b[0;32m   2436\u001b[0m \u001b[38;5;66;03m# when the last Python token in the expression is a ';'.\u001b[39;00m\n\u001b[0;32m   2437\u001b[0m \u001b[38;5;28;01mif\u001b[39;00m \u001b[38;5;28mgetattr\u001b[39m(fn, magic\u001b[38;5;241m.\u001b[39mMAGIC_OUTPUT_CAN_BE_SILENCED, \u001b[38;5;28;01mFalse\u001b[39;00m):\n",
      "File \u001b[1;32m~\\anaconda5\\Lib\\site-packages\\IPython\\core\\magics\\extension.py:33\u001b[0m, in \u001b[0;36mExtensionMagics.load_ext\u001b[1;34m(self, module_str)\u001b[0m\n\u001b[0;32m     31\u001b[0m \u001b[38;5;28;01mif\u001b[39;00m \u001b[38;5;129;01mnot\u001b[39;00m module_str:\n\u001b[0;32m     32\u001b[0m     \u001b[38;5;28;01mraise\u001b[39;00m UsageError(\u001b[38;5;124m'\u001b[39m\u001b[38;5;124mMissing module name.\u001b[39m\u001b[38;5;124m'\u001b[39m)\n\u001b[1;32m---> 33\u001b[0m res \u001b[38;5;241m=\u001b[39m \u001b[38;5;28mself\u001b[39m\u001b[38;5;241m.\u001b[39mshell\u001b[38;5;241m.\u001b[39mextension_manager\u001b[38;5;241m.\u001b[39mload_extension(module_str)\n\u001b[0;32m     35\u001b[0m \u001b[38;5;28;01mif\u001b[39;00m res \u001b[38;5;241m==\u001b[39m \u001b[38;5;124m'\u001b[39m\u001b[38;5;124malready loaded\u001b[39m\u001b[38;5;124m'\u001b[39m:\n\u001b[0;32m     36\u001b[0m     \u001b[38;5;28mprint\u001b[39m(\u001b[38;5;124m\"\u001b[39m\u001b[38;5;124mThe \u001b[39m\u001b[38;5;132;01m%s\u001b[39;00m\u001b[38;5;124m extension is already loaded. To reload it, use:\u001b[39m\u001b[38;5;124m\"\u001b[39m \u001b[38;5;241m%\u001b[39m module_str)\n",
      "File \u001b[1;32m~\\anaconda5\\Lib\\site-packages\\IPython\\core\\extensions.py:76\u001b[0m, in \u001b[0;36mExtensionManager.load_extension\u001b[1;34m(self, module_str)\u001b[0m\n\u001b[0;32m     69\u001b[0m \u001b[38;5;250m\u001b[39m\u001b[38;5;124;03m\"\"\"Load an IPython extension by its module name.\u001b[39;00m\n\u001b[0;32m     70\u001b[0m \n\u001b[0;32m     71\u001b[0m \u001b[38;5;124;03mReturns the string \"already loaded\" if the extension is already loaded,\u001b[39;00m\n\u001b[0;32m     72\u001b[0m \u001b[38;5;124;03m\"no load function\" if the module doesn't have a load_ipython_extension\u001b[39;00m\n\u001b[0;32m     73\u001b[0m \u001b[38;5;124;03mfunction, or None if it succeeded.\u001b[39;00m\n\u001b[0;32m     74\u001b[0m \u001b[38;5;124;03m\"\"\"\u001b[39;00m\n\u001b[0;32m     75\u001b[0m \u001b[38;5;28;01mtry\u001b[39;00m:\n\u001b[1;32m---> 76\u001b[0m     \u001b[38;5;28;01mreturn\u001b[39;00m \u001b[38;5;28mself\u001b[39m\u001b[38;5;241m.\u001b[39m_load_extension(module_str)\n\u001b[0;32m     77\u001b[0m \u001b[38;5;28;01mexcept\u001b[39;00m \u001b[38;5;167;01mModuleNotFoundError\u001b[39;00m:\n\u001b[0;32m     78\u001b[0m     \u001b[38;5;28;01mif\u001b[39;00m module_str \u001b[38;5;129;01min\u001b[39;00m BUILTINS_EXTS:\n",
      "File \u001b[1;32m~\\anaconda5\\Lib\\site-packages\\IPython\\core\\extensions.py:91\u001b[0m, in \u001b[0;36mExtensionManager._load_extension\u001b[1;34m(self, module_str)\u001b[0m\n\u001b[0;32m     89\u001b[0m \u001b[38;5;28;01mwith\u001b[39;00m \u001b[38;5;28mself\u001b[39m\u001b[38;5;241m.\u001b[39mshell\u001b[38;5;241m.\u001b[39mbuiltin_trap:\n\u001b[0;32m     90\u001b[0m     \u001b[38;5;28;01mif\u001b[39;00m module_str \u001b[38;5;129;01mnot\u001b[39;00m \u001b[38;5;129;01min\u001b[39;00m sys\u001b[38;5;241m.\u001b[39mmodules:\n\u001b[1;32m---> 91\u001b[0m         mod \u001b[38;5;241m=\u001b[39m import_module(module_str)\n\u001b[0;32m     92\u001b[0m     mod \u001b[38;5;241m=\u001b[39m sys\u001b[38;5;241m.\u001b[39mmodules[module_str]\n\u001b[0;32m     93\u001b[0m     \u001b[38;5;28;01mif\u001b[39;00m \u001b[38;5;28mself\u001b[39m\u001b[38;5;241m.\u001b[39m_call_load_ipython_extension(mod):\n",
      "File \u001b[1;32m~\\anaconda5\\Lib\\importlib\\__init__.py:126\u001b[0m, in \u001b[0;36mimport_module\u001b[1;34m(name, package)\u001b[0m\n\u001b[0;32m    124\u001b[0m             \u001b[38;5;28;01mbreak\u001b[39;00m\n\u001b[0;32m    125\u001b[0m         level \u001b[38;5;241m+\u001b[39m\u001b[38;5;241m=\u001b[39m \u001b[38;5;241m1\u001b[39m\n\u001b[1;32m--> 126\u001b[0m \u001b[38;5;28;01mreturn\u001b[39;00m _bootstrap\u001b[38;5;241m.\u001b[39m_gcd_import(name[level:], package, level)\n",
      "File \u001b[1;32m<frozen importlib._bootstrap>:1204\u001b[0m, in \u001b[0;36m_gcd_import\u001b[1;34m(name, package, level)\u001b[0m\n",
      "File \u001b[1;32m<frozen importlib._bootstrap>:1176\u001b[0m, in \u001b[0;36m_find_and_load\u001b[1;34m(name, import_)\u001b[0m\n",
      "File \u001b[1;32m<frozen importlib._bootstrap>:1140\u001b[0m, in \u001b[0;36m_find_and_load_unlocked\u001b[1;34m(name, import_)\u001b[0m\n",
      "\u001b[1;31mModuleNotFoundError\u001b[0m: No module named 'streamlit.notebook'"
     ]
    }
   ],
   "source": [
    "%load_ext streamlit.notebook\n"
   ]
  },
  {
   "cell_type": "code",
   "execution_count": 11,
   "id": "a622c657",
   "metadata": {},
   "outputs": [
    {
     "name": "stdout",
     "output_type": "stream",
     "text": [
      "Writing googlefit.py\n"
     ]
    }
   ],
   "source": [
    "%%writefile googlefit.py\n",
    "\n",
    "import streamlit as st\n",
    "import matplotlib.pyplot as plt\n",
    "from datetime import datetime, timedelta, timezone\n",
    "import google_auth_oauthlib.flow\n",
    "import googleapiclient.discovery\n",
    "\n",
    "# Path to your client secret JSON file\n",
    "CLIENT_SECRETS_FILE = \"client_secret.json\"\n",
    "\n",
    "# The scopes required to access Fit data\n",
    "SCOPES = [\n",
    "    \"https://www.googleapis.com/auth/fitness.activity.read\",\n",
    "    \"https://www.googleapis.com/auth/fitness.location.read\",\n",
    "    \"https://www.googleapis.com/auth/fitness.body.read\"\n",
    "]\n",
    "\n",
    "# API version\n",
    "API_SERVICE_NAME = 'fitness'\n",
    "API_VERSION = 'v1'\n",
    "\n",
    "# Authentication flow\n",
    "flow = google_auth_oauthlib.flow.InstalledAppFlow.from_client_secrets_file(\n",
    "    CLIENT_SECRETS_FILE, SCOPES)\n",
    "credentials = flow.run_local_server(port=0)\n",
    "\n",
    "# Build the API service\n",
    "service = googleapiclient.discovery.build(\n",
    "    API_SERVICE_NAME, API_VERSION, credentials=credentials)\n",
    "\n",
    "# Fetch steps data for the last 7 days\n",
    "now = datetime.now(timezone.utc)\n",
    "start_time = int((now - timedelta(days=7)).timestamp() * 1000)\n",
    "end_time = int(now.timestamp() * 1000)\n",
    "\n",
    "dataset = f\"{start_time}-{end_time}\"\n",
    "\n",
    "# Request step data\n",
    "response = service.users().dataset().aggregate(userId=\"me\", body={\n",
    "    \"aggregateBy\": [{\n",
    "        \"dataTypeName\": \"com.google.step_count.delta\"\n",
    "    }],\n",
    "    \"bucketByTime\": {\"durationMillis\": 86400000},  # Daily steps\n",
    "    \"startTimeMillis\": start_time,\n",
    "    \"endTimeMillis\": end_time\n",
    "}).execute()\n",
    "\n",
    "# Initialize lists for plotting\n",
    "dates = []\n",
    "steps_counts = []\n",
    "total_calories_per_date = {}\n",
    "calories_per_step = 0.05  # Average calories burned per step\n",
    "\n",
    "# Extract data for plotting\n",
    "for bucket in response.get('bucket', []):\n",
    "    steps = 0\n",
    "    start_time = int(bucket['startTimeMillis'])\n",
    "    date = datetime.utcfromtimestamp(start_time / 1000).strftime('%Y-%m-%d')\n",
    "\n",
    "    for dataset in bucket.get('dataset', []):\n",
    "        for point in dataset.get('point', []):\n",
    "            for value in point.get('value', []):\n",
    "                steps += value.get('intVal', 0)\n",
    "\n",
    "    # Calculate estimated calories burned\n",
    "    estimated_calories = steps * calories_per_step\n",
    "\n",
    "    # Store data for plotting\n",
    "    dates.append(date)\n",
    "    steps_counts.append(steps)\n",
    "\n",
    "    # Accumulate calories for the same date\n",
    "    total_calories_per_date[date] = total_calories_per_date.get(date, 0) + estimated_calories\n",
    "\n",
    "# Prepare data for plotting calories\n",
    "calories_burned = list(total_calories_per_date.values())\n",
    "\n",
    "# Streamlit app layout\n",
    "st.title(\"Fitness Data Overview\")\n",
    "\n",
    "# Step Count Plot\n",
    "st.header(\"Step Count Over Time\")\n",
    "fig, ax = plt.subplots(figsize=(10, 6))\n",
    "ax.plot(dates, steps_counts, marker='o', linestyle='-', color='b')\n",
    "ax.set_title('Step Count Over Time')\n",
    "ax.set_xlabel('Date')\n",
    "ax.set_ylabel('Step Count')\n",
    "ax.grid(True)\n",
    "st.pyplot(fig)\n",
    "\n",
    "# Calories Burned Plot\n",
    "st.header(\"Estimated Calories Burned by Date\")\n",
    "fig, ax = plt.subplots(figsize=(10, 6))\n",
    "ax.bar(dates, calories_burned, color='green')\n",
    "ax.set_title('Estimated Calories Burned by Date')\n",
    "ax.set_xlabel('Date')\n",
    "ax.set_ylabel('Estimated Calories Burned')\n",
    "ax.grid(axis='y')\n",
    "st.pyplot(fig)\n"
   ]
  },
  {
   "cell_type": "code",
   "execution_count": null,
   "id": "2ce847f8",
   "metadata": {},
   "outputs": [],
   "source": [
    "!streamlit run streamlit_app.py"
   ]
  },
  {
   "cell_type": "code",
   "execution_count": null,
   "id": "04af89ce",
   "metadata": {},
   "outputs": [],
   "source": []
  }
 ],
 "metadata": {
  "kernelspec": {
   "display_name": "Python 3 (ipykernel)",
   "language": "python",
   "name": "python3"
  },
  "language_info": {
   "codemirror_mode": {
    "name": "ipython",
    "version": 3
   },
   "file_extension": ".py",
   "mimetype": "text/x-python",
   "name": "python",
   "nbconvert_exporter": "python",
   "pygments_lexer": "ipython3",
   "version": "3.11.5"
  }
 },
 "nbformat": 4,
 "nbformat_minor": 5
}
